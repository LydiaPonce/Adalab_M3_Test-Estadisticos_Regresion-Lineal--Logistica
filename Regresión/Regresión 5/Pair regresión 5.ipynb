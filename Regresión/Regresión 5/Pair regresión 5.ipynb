{
 "cells": [
  {
   "cell_type": "markdown",
   "metadata": {},
   "source": [
    "# <span style=\"color:orange\">31/05 - Pair Regresión 5 Alicia y Lidia</span>"
   ]
  },
  {
   "cell_type": "code",
   "execution_count": 2,
   "metadata": {},
   "outputs": [],
   "source": [
    "# Importando paquetes\n",
    "\n",
    "# Importando módulos y cargando el dataset\n",
    "import numpy as np\n",
    "import pandas as pd\n",
    "import matplotlib.pyplot as plt\n",
    "import seaborn as sns\n",
    "import warnings\n",
    "warnings.filterwarnings( \"ignore\", module = \"seaborn\\..*\" )\n",
    "import sidetable\n",
    "#import statsmodels.api as sm\n",
    "import pylab as py\n",
    "from sklearn.model_selection import train_test_split\n",
    "from sklearn.linear_model import LinearRegression,LogisticRegression\n",
    "from sklearn.preprocessing import MinMaxScaler, OneHotEncoder, StandardScaler\n",
    "from sklearn.metrics import confusion_matrix,cohen_kappa_score\n",
    "from sklearn.linear_model import LogisticRegression\n",
    "from sklearn.metrics import roc_curve,roc_auc_score, classification_report\n",
    "from sklearn.metrics import roc_curve, auc\n",
    "from sklearn.metrics import accuracy_score \n",
    "from sklearn.metrics import mean_absolute_error, accuracy_score\n",
    "\n",
    "plt.rcParams[\"figure.facecolor\"] = \"w\"\n",
    "\n",
    "import warnings\n",
    "warnings.filterwarnings('ignore')\n"
   ]
  },
  {
   "cell_type": "markdown",
   "metadata": {},
   "source": [
    "# Objetivos"
   ]
  },
  {
   "cell_type": "markdown",
   "metadata": {},
   "source": [
    "### 1. **Buscar un conjunto de datos a analizar: (Obviar si se reutiliza el conjunto de las clases anteriores)**\n",
    "\n"
   ]
  },
  {
   "cell_type": "code",
   "execution_count": 3,
   "metadata": {},
   "outputs": [
    {
     "data": {
      "text/html": [
       "<div>\n",
       "<style scoped>\n",
       "    .dataframe tbody tr th:only-of-type {\n",
       "        vertical-align: middle;\n",
       "    }\n",
       "\n",
       "    .dataframe tbody tr th {\n",
       "        vertical-align: top;\n",
       "    }\n",
       "\n",
       "    .dataframe thead th {\n",
       "        text-align: right;\n",
       "    }\n",
       "</style>\n",
       "<table border=\"1\" class=\"dataframe\">\n",
       "  <thead>\n",
       "    <tr style=\"text-align: right;\">\n",
       "      <th></th>\n",
       "      <th>title</th>\n",
       "      <th>episodes</th>\n",
       "      <th>members</th>\n",
       "      <th>popularity</th>\n",
       "      <th>ranked</th>\n",
       "      <th>score</th>\n",
       "    </tr>\n",
       "  </thead>\n",
       "  <tbody>\n",
       "    <tr>\n",
       "      <th>0</th>\n",
       "      <td>4175</td>\n",
       "      <td>25.0</td>\n",
       "      <td>2389</td>\n",
       "      <td>141</td>\n",
       "      <td>25.0</td>\n",
       "      <td>8.82</td>\n",
       "    </tr>\n",
       "    <tr>\n",
       "      <th>1</th>\n",
       "      <td>11065</td>\n",
       "      <td>22.0</td>\n",
       "      <td>2389</td>\n",
       "      <td>28</td>\n",
       "      <td>24.0</td>\n",
       "      <td>8.83</td>\n",
       "    </tr>\n",
       "    <tr>\n",
       "      <th>2</th>\n",
       "      <td>7324</td>\n",
       "      <td>13.0</td>\n",
       "      <td>2389</td>\n",
       "      <td>98</td>\n",
       "      <td>23.0</td>\n",
       "      <td>8.83</td>\n",
       "    </tr>\n",
       "    <tr>\n",
       "      <th>3</th>\n",
       "      <td>3331</td>\n",
       "      <td>2.0</td>\n",
       "      <td>2389</td>\n",
       "      <td>4</td>\n",
       "      <td>1.0</td>\n",
       "      <td>6.41</td>\n",
       "    </tr>\n",
       "    <tr>\n",
       "      <th>4</th>\n",
       "      <td>6414</td>\n",
       "      <td>1.0</td>\n",
       "      <td>2389</td>\n",
       "      <td>502</td>\n",
       "      <td>22.0</td>\n",
       "      <td>8.83</td>\n",
       "    </tr>\n",
       "    <tr>\n",
       "      <th>...</th>\n",
       "      <td>...</td>\n",
       "      <td>...</td>\n",
       "      <td>...</td>\n",
       "      <td>...</td>\n",
       "      <td>...</td>\n",
       "      <td>...</td>\n",
       "    </tr>\n",
       "    <tr>\n",
       "      <th>19306</th>\n",
       "      <td>3232</td>\n",
       "      <td>13.0</td>\n",
       "      <td>2389</td>\n",
       "      <td>843</td>\n",
       "      <td>1070.0</td>\n",
       "      <td>7.73</td>\n",
       "    </tr>\n",
       "    <tr>\n",
       "      <th>19307</th>\n",
       "      <td>3363</td>\n",
       "      <td>2.0</td>\n",
       "      <td>2389</td>\n",
       "      <td>1292</td>\n",
       "      <td>1071.0</td>\n",
       "      <td>7.73</td>\n",
       "    </tr>\n",
       "    <tr>\n",
       "      <th>19308</th>\n",
       "      <td>3486</td>\n",
       "      <td>19.0</td>\n",
       "      <td>2389</td>\n",
       "      <td>1314</td>\n",
       "      <td>1073.0</td>\n",
       "      <td>7.73</td>\n",
       "    </tr>\n",
       "    <tr>\n",
       "      <th>19309</th>\n",
       "      <td>5264</td>\n",
       "      <td>1.0</td>\n",
       "      <td>2389</td>\n",
       "      <td>1469</td>\n",
       "      <td>1077.0</td>\n",
       "      <td>7.73</td>\n",
       "    </tr>\n",
       "    <tr>\n",
       "      <th>19310</th>\n",
       "      <td>8159</td>\n",
       "      <td>1.0</td>\n",
       "      <td>29248</td>\n",
       "      <td>2604</td>\n",
       "      <td>1081.0</td>\n",
       "      <td>7.73</td>\n",
       "    </tr>\n",
       "  </tbody>\n",
       "</table>\n",
       "<p>15875 rows × 6 columns</p>\n",
       "</div>"
      ],
      "text/plain": [
       "       title  episodes  members  popularity  ranked  score\n",
       "0       4175      25.0     2389         141    25.0   8.82\n",
       "1      11065      22.0     2389          28    24.0   8.83\n",
       "2       7324      13.0     2389          98    23.0   8.83\n",
       "3       3331       2.0     2389           4     1.0   6.41\n",
       "4       6414       1.0     2389         502    22.0   8.83\n",
       "...      ...       ...      ...         ...     ...    ...\n",
       "19306   3232      13.0     2389         843  1070.0   7.73\n",
       "19307   3363       2.0     2389        1292  1071.0   7.73\n",
       "19308   3486      19.0     2389        1314  1073.0   7.73\n",
       "19309   5264       1.0     2389        1469  1077.0   7.73\n",
       "19310   8159       1.0    29248        2604  1081.0   7.73\n",
       "\n",
       "[15875 rows x 6 columns]"
      ]
     },
     "execution_count": 3,
     "metadata": {},
     "output_type": "execute_result"
    }
   ],
   "source": [
    "df = pd.read_csv('anime_codi.csv', index_col=0)\n",
    "df"
   ]
  },
  {
   "cell_type": "markdown",
   "metadata": {},
   "source": [
    "**Antes de la regresión logistica hemos decidido utlizar la variable \"score\", pero antes debemos dividirla en dos rangos , en este caso \"puntuacion_baja\" y \"puntuación_baja\", por que se desea predecir al pertenencia a cada clase de nuestros grupos.**\n",
    "\n",
    "**Tras esto, hemos codificado en valores {\"puntuacion_baja\":0, \"puntuacion_alta\":1} con .map(), ya que encontramos errores al intentar analizar ROC curve**"
   ]
  },
  {
   "cell_type": "code",
   "execution_count": 4,
   "metadata": {},
   "outputs": [],
   "source": [
    "df[\"score_class\"] = pd.cut(df[\"score\"], 2,labels = [\"puntuacion_baja\", \"puntuacion_alta\"], ordered=True)"
   ]
  },
  {
   "cell_type": "code",
   "execution_count": 5,
   "metadata": {},
   "outputs": [
    {
     "data": {
      "text/html": [
       "<div>\n",
       "<style scoped>\n",
       "    .dataframe tbody tr th:only-of-type {\n",
       "        vertical-align: middle;\n",
       "    }\n",
       "\n",
       "    .dataframe tbody tr th {\n",
       "        vertical-align: top;\n",
       "    }\n",
       "\n",
       "    .dataframe thead th {\n",
       "        text-align: right;\n",
       "    }\n",
       "</style>\n",
       "<table border=\"1\" class=\"dataframe\">\n",
       "  <thead>\n",
       "    <tr style=\"text-align: right;\">\n",
       "      <th></th>\n",
       "      <th>title</th>\n",
       "      <th>episodes</th>\n",
       "      <th>members</th>\n",
       "      <th>popularity</th>\n",
       "      <th>ranked</th>\n",
       "      <th>score</th>\n",
       "      <th>score_class</th>\n",
       "    </tr>\n",
       "  </thead>\n",
       "  <tbody>\n",
       "    <tr>\n",
       "      <th>1275</th>\n",
       "      <td>13886</td>\n",
       "      <td>3.0</td>\n",
       "      <td>1005</td>\n",
       "      <td>9494</td>\n",
       "      <td>8092.0</td>\n",
       "      <td>6.08</td>\n",
       "      <td>puntuacion_baja</td>\n",
       "    </tr>\n",
       "    <tr>\n",
       "      <th>1263</th>\n",
       "      <td>2918</td>\n",
       "      <td>1.0</td>\n",
       "      <td>806</td>\n",
       "      <td>9952</td>\n",
       "      <td>8105.0</td>\n",
       "      <td>6.07</td>\n",
       "      <td>puntuacion_baja</td>\n",
       "    </tr>\n",
       "    <tr>\n",
       "      <th>18373</th>\n",
       "      <td>12602</td>\n",
       "      <td>26.0</td>\n",
       "      <td>576</td>\n",
       "      <td>10674</td>\n",
       "      <td>8090.0</td>\n",
       "      <td>6.08</td>\n",
       "      <td>puntuacion_baja</td>\n",
       "    </tr>\n",
       "    <tr>\n",
       "      <th>9978</th>\n",
       "      <td>8609</td>\n",
       "      <td>1.0</td>\n",
       "      <td>2389</td>\n",
       "      <td>817</td>\n",
       "      <td>1703.0</td>\n",
       "      <td>7.51</td>\n",
       "      <td>puntuacion_alta</td>\n",
       "    </tr>\n",
       "    <tr>\n",
       "      <th>7742</th>\n",
       "      <td>13121</td>\n",
       "      <td>1.0</td>\n",
       "      <td>2501</td>\n",
       "      <td>7418</td>\n",
       "      <td>4486.0</td>\n",
       "      <td>6.83</td>\n",
       "      <td>puntuacion_alta</td>\n",
       "    </tr>\n",
       "    <tr>\n",
       "      <th>13629</th>\n",
       "      <td>522</td>\n",
       "      <td>2.0</td>\n",
       "      <td>536</td>\n",
       "      <td>10828</td>\n",
       "      <td>6803.0</td>\n",
       "      <td>6.35</td>\n",
       "      <td>puntuacion_baja</td>\n",
       "    </tr>\n",
       "    <tr>\n",
       "      <th>8384</th>\n",
       "      <td>2299</td>\n",
       "      <td>13.0</td>\n",
       "      <td>2389</td>\n",
       "      <td>2223</td>\n",
       "      <td>1781.0</td>\n",
       "      <td>7.48</td>\n",
       "      <td>puntuacion_alta</td>\n",
       "    </tr>\n",
       "    <tr>\n",
       "      <th>16010</th>\n",
       "      <td>9118</td>\n",
       "      <td>1.0</td>\n",
       "      <td>277</td>\n",
       "      <td>12383</td>\n",
       "      <td>6715.0</td>\n",
       "      <td>6.37</td>\n",
       "      <td>puntuacion_baja</td>\n",
       "    </tr>\n",
       "    <tr>\n",
       "      <th>14566</th>\n",
       "      <td>7456</td>\n",
       "      <td>1.0</td>\n",
       "      <td>813</td>\n",
       "      <td>9941</td>\n",
       "      <td>6345.0</td>\n",
       "      <td>6.44</td>\n",
       "      <td>puntuacion_alta</td>\n",
       "    </tr>\n",
       "    <tr>\n",
       "      <th>9848</th>\n",
       "      <td>4087</td>\n",
       "      <td>1.0</td>\n",
       "      <td>1320</td>\n",
       "      <td>8921</td>\n",
       "      <td>12160.0</td>\n",
       "      <td>6.39</td>\n",
       "      <td>puntuacion_baja</td>\n",
       "    </tr>\n",
       "  </tbody>\n",
       "</table>\n",
       "</div>"
      ],
      "text/plain": [
       "       title  episodes  members  popularity   ranked  score      score_class\n",
       "1275   13886       3.0     1005        9494   8092.0   6.08  puntuacion_baja\n",
       "1263    2918       1.0      806        9952   8105.0   6.07  puntuacion_baja\n",
       "18373  12602      26.0      576       10674   8090.0   6.08  puntuacion_baja\n",
       "9978    8609       1.0     2389         817   1703.0   7.51  puntuacion_alta\n",
       "7742   13121       1.0     2501        7418   4486.0   6.83  puntuacion_alta\n",
       "13629    522       2.0      536       10828   6803.0   6.35  puntuacion_baja\n",
       "8384    2299      13.0     2389        2223   1781.0   7.48  puntuacion_alta\n",
       "16010   9118       1.0      277       12383   6715.0   6.37  puntuacion_baja\n",
       "14566   7456       1.0      813        9941   6345.0   6.44  puntuacion_alta\n",
       "9848    4087       1.0     1320        8921  12160.0   6.39  puntuacion_baja"
      ]
     },
     "execution_count": 5,
     "metadata": {},
     "output_type": "execute_result"
    }
   ],
   "source": [
    "df.sample(10)"
   ]
  },
  {
   "cell_type": "code",
   "execution_count": 6,
   "metadata": {},
   "outputs": [],
   "source": [
    "# Codificamos para continuar  con el ajuste logistico\n",
    "\n",
    "mapa= {\"puntuacion_baja\":0, \"puntuacion_alta\":1}\n",
    "df[\"score_class\"]= df[\"score_class\"].map(mapa)"
   ]
  },
  {
   "cell_type": "code",
   "execution_count": 7,
   "metadata": {},
   "outputs": [
    {
     "data": {
      "text/html": [
       "<div>\n",
       "<style scoped>\n",
       "    .dataframe tbody tr th:only-of-type {\n",
       "        vertical-align: middle;\n",
       "    }\n",
       "\n",
       "    .dataframe tbody tr th {\n",
       "        vertical-align: top;\n",
       "    }\n",
       "\n",
       "    .dataframe thead th {\n",
       "        text-align: right;\n",
       "    }\n",
       "</style>\n",
       "<table border=\"1\" class=\"dataframe\">\n",
       "  <thead>\n",
       "    <tr style=\"text-align: right;\">\n",
       "      <th></th>\n",
       "      <th>title</th>\n",
       "      <th>episodes</th>\n",
       "      <th>members</th>\n",
       "      <th>popularity</th>\n",
       "      <th>ranked</th>\n",
       "      <th>score</th>\n",
       "      <th>score_class</th>\n",
       "    </tr>\n",
       "  </thead>\n",
       "  <tbody>\n",
       "    <tr>\n",
       "      <th>0</th>\n",
       "      <td>4175</td>\n",
       "      <td>25.0</td>\n",
       "      <td>2389</td>\n",
       "      <td>141</td>\n",
       "      <td>25.0</td>\n",
       "      <td>8.82</td>\n",
       "      <td>1</td>\n",
       "    </tr>\n",
       "    <tr>\n",
       "      <th>1</th>\n",
       "      <td>11065</td>\n",
       "      <td>22.0</td>\n",
       "      <td>2389</td>\n",
       "      <td>28</td>\n",
       "      <td>24.0</td>\n",
       "      <td>8.83</td>\n",
       "      <td>1</td>\n",
       "    </tr>\n",
       "    <tr>\n",
       "      <th>2</th>\n",
       "      <td>7324</td>\n",
       "      <td>13.0</td>\n",
       "      <td>2389</td>\n",
       "      <td>98</td>\n",
       "      <td>23.0</td>\n",
       "      <td>8.83</td>\n",
       "      <td>1</td>\n",
       "    </tr>\n",
       "    <tr>\n",
       "      <th>3</th>\n",
       "      <td>3331</td>\n",
       "      <td>2.0</td>\n",
       "      <td>2389</td>\n",
       "      <td>4</td>\n",
       "      <td>1.0</td>\n",
       "      <td>6.41</td>\n",
       "      <td>1</td>\n",
       "    </tr>\n",
       "    <tr>\n",
       "      <th>4</th>\n",
       "      <td>6414</td>\n",
       "      <td>1.0</td>\n",
       "      <td>2389</td>\n",
       "      <td>502</td>\n",
       "      <td>22.0</td>\n",
       "      <td>8.83</td>\n",
       "      <td>1</td>\n",
       "    </tr>\n",
       "  </tbody>\n",
       "</table>\n",
       "</div>"
      ],
      "text/plain": [
       "   title  episodes  members  popularity  ranked  score score_class\n",
       "0   4175      25.0     2389         141    25.0   8.82           1\n",
       "1  11065      22.0     2389          28    24.0   8.83           1\n",
       "2   7324      13.0     2389          98    23.0   8.83           1\n",
       "3   3331       2.0     2389           4     1.0   6.41           1\n",
       "4   6414       1.0     2389         502    22.0   8.83           1"
      ]
     },
     "execution_count": 7,
     "metadata": {},
     "output_type": "execute_result"
    }
   ],
   "source": [
    "df.head()"
   ]
  },
  {
   "cell_type": "markdown",
   "metadata": {},
   "source": [
    "### 3. **Realiza el ajuste logístico utilizando diversas métricas y realiza una gráfica mostrando los resultados.**"
   ]
  },
  {
   "cell_type": "code",
   "execution_count": 8,
   "metadata": {},
   "outputs": [
    {
     "name": "stdout",
     "output_type": "stream",
     "text": [
      "(12700, 6) (12700,)\n",
      "(3175, 6) (3175,)\n"
     ]
    }
   ],
   "source": [
    "x = df.drop(['score_class'], axis = 1)\n",
    "y = df['score_class']\n",
    "x_train, x_test, y_train, y_test = train_test_split(x, y, test_size = 0.2, random_state = 42)\n",
    "print(x_train.shape, y_train.shape)\n",
    "print(x_test.shape, y_test.shape)"
   ]
  },
  {
   "cell_type": "code",
   "execution_count": 9,
   "metadata": {},
   "outputs": [
    {
     "name": "stdout",
     "output_type": "stream",
     "text": [
      "Para el conjunto train:---------------\n",
      "El valor de accuracy  es  0.9040944881889764\n",
      "Para el conjunto test:---------------\n",
      "El valor de accuracy  es  0.9080314960629922\n"
     ]
    }
   ],
   "source": [
    "# definimos la regresión logistica\n",
    "\n",
    "log_reg = LogisticRegression(n_jobs=-1, max_iter = 1000)\n",
    "# ajustamos el modelo\n",
    "log_reg.fit(x_train,y_train)\n",
    "# obtenemos las predicciones para el conjunto de entrenamiento\n",
    "y_pred_train = log_reg.predict(x_train)\n",
    "# obtenemos las predicciones para el conjunto de test\n",
    "y_pred_test = log_reg.predict(x_test)\n",
    "\n",
    "train_score_lr = accuracy_score(y_train, y_pred_train)\n",
    "print('Para el conjunto train:---------------')\n",
    "print('El valor de accuracy  es ',train_score_lr)\n",
    "\n",
    "print('Para el conjunto test:---------------')\n",
    "test_score_lr = accuracy_score(y_test, y_pred_test)\n",
    "print('El valor de accuracy  es ',test_score_lr)"
   ]
  },
  {
   "cell_type": "markdown",
   "metadata": {},
   "source": [
    "**El valor de accuracy estan cerca de 1, no está nada mal. 😄 Vamos a ver ahora la matriz de confusión , la curva de ROC y el valor de AUC**"
   ]
  },
  {
   "cell_type": "code",
   "execution_count": 10,
   "metadata": {},
   "outputs": [
    {
     "data": {
      "image/png": "[encoded data removed]",
      "text/plain": [
       "<Figure size 864x576 with 2 Axes>"
      ]
     },
     "metadata": {},
     "output_type": "display_data"
    }
   ],
   "source": [
    "#Matriz de confusión\n",
    "\n",
    "mat_lr = confusion_matrix(y_test, y_pred_test)\n",
    "\n",
    "plt.figure(figsize = (12, 8))\n",
    "sns.heatmap(mat_lr, square=True, annot=True, fmt=\"d\")\n",
    "\n",
    "plt.xlabel('predicted value')\n",
    "plt.ylabel('true value')\n",
    "plt.show()\n"
   ]
  },
  {
   "cell_type": "code",
   "execution_count": 11,
   "metadata": {},
   "outputs": [
    {
     "data": {
      "text/plain": [
       "<AxesSubplot:>"
      ]
     },
     "execution_count": 11,
     "metadata": {},
     "output_type": "execute_result"
    },
    {
     "data": {
      "image/png": "[encoded data removed]",
      "text/plain": [
       "<Figure size 864x576 with 2 Axes>"
      ]
     },
     "metadata": {},
     "output_type": "display_data"
    }
   ],
   "source": [
    "plt.figure(figsize = (12, 8))\n",
    "sns.heatmap(mat_lr/np.sum(mat_lr), annot=True, \n",
    "            fmt='.2%', cmap='Blues')\n"
   ]
  },
  {
   "cell_type": "markdown",
   "metadata": {},
   "source": [
    "👉🏻 **1547 verdadero positivo 48,72%**\n",
    "\n",
    "👉🏻 **1336 verdadero negativo 42,08%**\n",
    "\n",
    "👉🏻 **152 falso positivo 4,79%**\n",
    "\n",
    "👉🏻 **140 falso negativo 4,41%**\n",
    "\n",
    "**Vemos que tenemos un porcentaje bajo de verdaderos, pero al menos tenemos muy pocos valores falsos que es lo que queremos evitar.**"
   ]
  },
  {
   "cell_type": "code",
   "execution_count": 12,
   "metadata": {},
   "outputs": [
    {
     "name": "stdout",
     "output_type": "stream",
     "text": [
      "              precision    recall  f1-score   support\n",
      "\n",
      "           0       0.90      0.91      0.90      1476\n",
      "           1       0.92      0.91      0.91      1699\n",
      "\n",
      "    accuracy                           0.91      3175\n",
      "   macro avg       0.91      0.91      0.91      3175\n",
      "weighted avg       0.91      0.91      0.91      3175\n",
      "\n"
     ]
    }
   ],
   "source": [
    "print(classification_report(y_test, y_pred_test))"
   ]
  },
  {
   "cell_type": "code",
   "execution_count": 13,
   "metadata": {},
   "outputs": [
    {
     "name": "stdout",
     "output_type": "stream",
     "text": [
      "The score AUC is: 0.9078423303361933\n"
     ]
    },
    {
     "data": {
      "image/png": "[encoded data removed]",
      "text/plain": [
       "<Figure size 360x360 with 1 Axes>"
      ]
     },
     "metadata": {},
     "output_type": "display_data"
    }
   ],
   "source": [
    "#Curva de ROC y Valor AUC\n",
    "\n",
    "fpr_log, tpr_log, _ = roc_curve(y_test, y_pred_test)\n",
    "auc_LR=roc_auc_score(y_test, y_pred_test)\n",
    "print('The score AUC is:',auc_LR)\n",
    "\n",
    "plt.figure(figsize=(5,5))\n",
    "plt.plot([0, 1], [0, 1], color='black', linestyle='--')\n",
    "\n",
    "plt.plot(fpr_log, tpr_log, color='orange', label='ROC')\n",
    "\n",
    "plt.xlabel('False positive rate')\n",
    "plt.ylabel('True positive rate')\n",
    "plt.title('ROC curve')\n",
    "plt.legend(loc='best')\n",
    "plt.grid()\n",
    "plt.show()"
   ]
  },
  {
   "cell_type": "markdown",
   "metadata": {},
   "source": [
    "💙 **Tanto la curva ROC como el AUC, nos devuelve que tenemos AUC is: 0.9078423303361933, muy cerca de 1, asi que tenemos un diagnostico cerca de la perfeccion.**   \n",
    "\n",
    "**Significa que hay 90% de probabilidad de que el modelo pueda distinguir entre \"puntuacion_alta\" y \"puntuacion_baja\"**"
   ]
  },
  {
   "cell_type": "code",
   "execution_count": 14,
   "metadata": {},
   "outputs": [],
   "source": [
    "df.to_csv('anime_codi_estand.csv')"
   ]
  }
 ],
 "metadata": {
  "interpreter": {
   "hash": "0620710c65b0f5ccc651a2aa8870ae0eb4c70492424a8d7866846658189426a3"
  },
  "kernelspec": {
   "display_name": "Python 3.9.7 ('base')",
   "language": "python",
   "name": "python3"
  },
  "language_info": {
   "codemirror_mode": {
    "name": "ipython",
    "version": 3
   },
   "file_extension": ".py",
   "mimetype": "text/x-python",
   "name": "python",
   "nbconvert_exporter": "python",
   "pygments_lexer": "ipython3",
   "version": "3.9.7"
  },
  "orig_nbformat": 4
 },
 "nbformat": 4,
 "nbformat_minor": 2
}
